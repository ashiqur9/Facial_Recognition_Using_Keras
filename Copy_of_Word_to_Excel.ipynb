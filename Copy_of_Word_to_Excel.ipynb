{
  "nbformat": 4,
  "nbformat_minor": 0,
  "metadata": {
    "colab": {
      "name": "Copy of Word to Excel ",
      "provenance": [],
      "authorship_tag": "ABX9TyMEYQ53oFEit+qEwFUQKaWB",
      "include_colab_link": true
    },
    "kernelspec": {
      "name": "python3",
      "display_name": "Python 3"
    }
  },
  "cells": [
    {
      "cell_type": "markdown",
      "metadata": {
        "id": "view-in-github",
        "colab_type": "text"
      },
      "source": [
        "<a href=\"https://colab.research.google.com/github/ashiqur9/Facial_Recognition_Using_Keras/blob/master/Copy_of_Word_to_Excel.ipynb\" target=\"_parent\"><img src=\"https://colab.research.google.com/assets/colab-badge.svg\" alt=\"Open In Colab\"/></a>"
      ]
    },
    {
      "cell_type": "code",
      "metadata": {
        "id": "X1xM66s9aI4z"
      },
      "source": [
        "import pandas as pd"
      ],
      "execution_count": 5,
      "outputs": []
    },
    {
      "cell_type": "code",
      "metadata": {
        "id": "nUxeXtQ3aP-C"
      },
      "source": [
        "s=\"\"\"Brings:এনেছে\n",
        "Mediocrity:মধ্যম অবস্থা\n",
        "Premise:প্রতিজ্ঞা\n",
        "Bland:স্নিগ্ধ\n",
        "Ingested:পাকস্থলিতে গ্রহণ\n",
        "Hippie:মাদকসেবী\n",
        "Norms:নিয়ম\n",
        "Scavenge:ময়লা সাফ\n",
        "Reconnaissance:পরিদর্শনকরণ\n",
        "Emperor:সম্রাট\n",
        "Abominable:জঘন্য\n",
        "Espouse:পক্ষাবলম্বন করা\n",
        "Endurable:সহনীয়\n",
        "Vacuous:শূন্য\n",
        "Whack:অংশ\n",
        "Muse:আবেশ\n",
        "Fixate:জমাট বাঁধা\n",
        "Numb:অসাড়\n",
        "Perpetuate:চিরস্থায়ী করা\n",
        "Superstition:কুসংস্কার\n",
        "Mediocre:মাঝারি\n",
        "Stumbled:পদস্খলিত\n",
        "Fallacy:হেত্বাভাস\n",
        "Instruct:শিখান\n",
        "Thereby:যার ফলে\n",
        "Inclination:বাঁক\n",
        "Intervene:হস্তক্ষেপ করা\n",
        "Urgency:চাড়া\n",
        "Utterly:একদম\n",
        "Crappy:ন্যক্কারজনক\n",
        "Spectacular:দর্শনীয়\n",
        "Promptly:শীঘ্র\n",
        "Resent:ক্ষতিকর মনে করা\n",
        "Pandemic:পৃথিবীব্যাপি\n",
        "Lead:লিড\n",
        "Born:স্বভাবসিদ্ধ\n",
        "Birth:জন্ম\"\"\""
      ],
      "execution_count": 6,
      "outputs": []
    },
    {
      "cell_type": "code",
      "metadata": {
        "id": "OOqRVWViauab",
        "outputId": "b8b61e3d-eb00-4016-e42d-32254ad68e0a",
        "colab": {
          "base_uri": "https://localhost:8080/"
        }
      },
      "source": [
        " \n",
        "english, bangla = [], []\n",
        "for line in s.split(\"\\n\"):\n",
        "    english.append(line.split(\":\")[0])\n",
        "    bangla.append(line.split(\":\")[1])\n",
        "df = pd.DataFrame({\"English\":english, \"Bangla\":bangla})\n",
        "df.to_excel(\"word1.xlsx\", index=False)\n",
        "pd.read_excel(\"word1.xlsx\").head()"
      ],
      "execution_count": 4,
      "outputs": [
        {
          "output_type": "execute_result",
          "data": {
            "text/html": [
              "<div>\n",
              "<style scoped>\n",
              "    .dataframe tbody tr th:only-of-type {\n",
              "        vertical-align: middle;\n",
              "    }\n",
              "\n",
              "    .dataframe tbody tr th {\n",
              "        vertical-align: top;\n",
              "    }\n",
              "\n",
              "    .dataframe thead th {\n",
              "        text-align: right;\n",
              "    }\n",
              "</style>\n",
              "<table border=\"1\" class=\"dataframe\">\n",
              "  <thead>\n",
              "    <tr style=\"text-align: right;\">\n",
              "      <th></th>\n",
              "      <th>English</th>\n",
              "      <th>Bangla</th>\n",
              "    </tr>\n",
              "  </thead>\n",
              "  <tbody>\n",
              "    <tr>\n",
              "      <th>0</th>\n",
              "      <td>Brings</td>\n",
              "      <td>এনেছে</td>\n",
              "    </tr>\n",
              "    <tr>\n",
              "      <th>1</th>\n",
              "      <td>Mediocrity</td>\n",
              "      <td>মধ্যম অবস্থা</td>\n",
              "    </tr>\n",
              "    <tr>\n",
              "      <th>2</th>\n",
              "      <td>Premise</td>\n",
              "      <td>প্রতিজ্ঞা</td>\n",
              "    </tr>\n",
              "    <tr>\n",
              "      <th>3</th>\n",
              "      <td>Bland</td>\n",
              "      <td>স্নিগ্ধ</td>\n",
              "    </tr>\n",
              "    <tr>\n",
              "      <th>4</th>\n",
              "      <td>Ingested</td>\n",
              "      <td>পাকস্থলিতে গ্রহণ</td>\n",
              "    </tr>\n",
              "  </tbody>\n",
              "</table>\n",
              "</div>"
            ],
            "text/plain": [
              "      English            Bangla\n",
              "0      Brings             এনেছে\n",
              "1  Mediocrity      মধ্যম অবস্থা\n",
              "2     Premise         প্রতিজ্ঞা\n",
              "3       Bland           স্নিগ্ধ\n",
              "4    Ingested  পাকস্থলিতে গ্রহণ"
            ]
          },
          "metadata": {
            "tags": []
          },
          "execution_count": 4
        }
      ]
    }
  ]
}